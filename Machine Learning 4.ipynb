{
 "cells": [
  {
   "cell_type": "markdown",
   "metadata": {},
   "source": [
    "Step 1 Data Acquisition and Visualization (10 pts):"
   ]
  },
  {
   "cell_type": "code",
   "execution_count": 1,
   "metadata": {},
   "outputs": [],
   "source": [
    "import numpy as np\n",
    "import gzip\n",
    "import struct\n",
    "\n",
    "import matplotlib.pyplot as plt"
   ]
  },
  {
   "cell_type": "markdown",
   "metadata": {},
   "source": [
    "(a) Download the “MNIST” dataset and extract the files. You will get four files with extension .gz\n",
    "\n",
    "You can use the provided function read_idx below to read in the dataset. As its official description, the dataset is split into 60000 training images and 10000 images. The four file corresponds to the training images, training labels, testing images and testing labels. You need to print out their shape to finish this step."
   ]
  },
  {
   "cell_type": "code",
   "execution_count": 2,
   "metadata": {},
   "outputs": [
    {
     "name": "stdout",
     "output_type": "stream",
     "text": [
      "Training Images Shape: (60000, 28, 28)\n",
      "Training Labels Shape: (60000,)\n",
      "Testing Images Shape: (10000, 28, 28)\n",
      "Testing Labels Shape: (10000,)\n"
     ]
    }
   ],
   "source": [
    "def read_idx(filename):\n",
    "    with gzip.open(filename, 'rb') as f:\n",
    "        zero, data_type, dims = struct.unpack('>HBB', f.read(4))\n",
    "        shape = tuple(struct.unpack('>I', f.read(4))[0] for d in range(dims))\n",
    "        return np.frombuffer(f.read(), dtype=np.uint8).reshape(shape)\n",
    "\n",
    "trainLb = read_idx(filename='train-labels-idx1-ubyte.gz')\n",
    "trainImg = read_idx(filename='train-images-idx3-ubyte.gz')\n",
    "t10k_Lb = read_idx(filename='t10k-labels-idx1-ubyte.gz')\n",
    "t10k_Img = read_idx(filename='t10k-images-idx3-ubyte.gz')\n",
    "\n",
    "trainImg = np.array(trainImg)\n",
    "trainLb = np.array(trainLb)\n",
    "t10k_Lb = np.array(t10k_Lb)\n",
    "t10k_Img = np.array(t10k_Img)\n",
    "\n",
    "# Print shapes of the datasets\n",
    "print(\"Training Images Shape:\", trainImg.shape)\n",
    "print(\"Training Labels Shape:\", trainLb.shape)\n",
    "print(\"Testing Images Shape:\", t10k_Img.shape)\n",
    "print(\"Testing Labels Shape:\", t10k_Lb.shape)"
   ]
  },
  {
   "cell_type": "code",
   "execution_count": 3,
   "metadata": {},
   "outputs": [
    {
     "data": {
      "text/plain": [
       "<matplotlib.image.AxesImage at 0x117c39150>"
      ]
     },
     "execution_count": 3,
     "metadata": {},
     "output_type": "execute_result"
    },
    {
     "data": {
      "image/png": "[encoded data removed]",
      "text/plain": [
       "<Figure size 640x480 with 1 Axes>"
      ]
     },
     "metadata": {},
     "output_type": "display_data"
    }
   ],
   "source": [
    "plt.imshow(trainImg[np.random.randint(5000)], cmap='gray')"
   ]
  },
  {
   "cell_type": "markdown",
   "metadata": {},
   "source": [
    "Step 2 Data Preprocessing (10 pts): In this step, you need to:"
   ]
  },
  {
   "cell_type": "markdown",
   "metadata": {},
   "source": [
    "a) Normalize the pixel values of images to be between 0 and 1. (5 pts)"
   ]
  },
  {
   "cell_type": "code",
   "execution_count": 4,
   "metadata": {},
   "outputs": [
    {
     "name": "stdout",
     "output_type": "stream",
     "text": [
      "Training Images Shape (Normalized): (60000, 28, 28)\n",
      "Testing Images Shape (Normalized): (10000, 28, 28)\n"
     ]
    }
   ],
   "source": [
    "# Normalize pixel values to be between 0 and 1\n",
    "trainImg = trainImg.astype('float32') / 255.0\n",
    "t10k_Img = t10k_Img.astype('float32') / 255.0\n",
    "\n",
    "# Print shapes\n",
    "print(\"Training Images Shape (Normalized):\", trainImg.shape)\n",
    "print(\"Testing Images Shape (Normalized):\", t10k_Img.shape)\n"
   ]
  },
  {
   "cell_type": "markdown",
   "metadata": {},
   "source": [
    "b) Convert the labels from categorical data into numerical values using one-hot encoding."
   ]
  },
  {
   "cell_type": "code",
   "execution_count": 5,
   "metadata": {},
   "outputs": [
    {
     "data": {
      "text/plain": [
       "(60000, 10)"
      ]
     },
     "execution_count": 5,
     "metadata": {},
     "output_type": "execute_result"
    }
   ],
   "source": [
    "# Convert labels to one-hot encoding\n",
    "trainLb\n",
    "categories = trainLb\n",
    "\n",
    "uniques, ids = np.unique(categories, return_inverse=True)\n",
    "\n",
    "cat_encode = np.eye(len(uniques))[ids]\n",
    "\n",
    "cat_encode.shape"
   ]
  },
  {
   "cell_type": "markdown",
   "metadata": {},
   "source": [
    "Step 3 Network Initialization (10 pts): We will work with a neuron network with\n",
    "two hidden layers, using Sigmoid function as the activation functions for hidden\n",
    "layers and softmax activation function for the output layer. To finish this, you\n",
    "need to:"
   ]
  },
  {
   "cell_type": "markdown",
   "metadata": {},
   "source": [
    "(a) Identify the auxiliary input including the Sigmoid function and its derivative and\n",
    "Softmax function (5 pts)"
   ]
  },
  {
   "cell_type": "code",
   "execution_count": 6,
   "metadata": {},
   "outputs": [],
   "source": [
    "# define sigmoid, sigmoid derivative and softmax function\n",
    "\n",
    "def sigmoid(z):\n",
    "    return 1 / (1 + np.exp(-z))\n",
    "\n",
    "def sigmoid_derivative(z):\n",
    "    return sigmoid(z) * (1 - sigmoid(z))\n",
    "\n",
    "def softmax(z):\n",
    "    exp_z = np.exp(z - np.max(z, axis=1, keepdims=True))  \n",
    "    return exp_z / np.sum(exp_z, axis=1, keepdims=True)"
   ]
  },
  {
   "cell_type": "markdown",
   "metadata": {},
   "source": [
    "(b) Initialize all the parameters in neural network uniformly. In this network, the input size is 784 dimensions (each input is a 28x28 image, so you have to flatten the data from 2D to 1D). For the two linear hidden layers, we have 128 and 64 neurons respectively. For the output layer, its size will be 10 since there are 10 classes (0-9) in MNIST. To finish this step, you need to initialize the weights and bias in random with a pre-set random seed using Numpy. Please set the seed value = 695. (5 pts)"
   ]
  },
  {
   "cell_type": "code",
   "execution_count": 7,
   "metadata": {},
   "outputs": [
    {
     "name": "stdout",
     "output_type": "stream",
     "text": [
      "Shape of weights w1: (784, 128)\n",
      "Shape of weights w2: (128, 64)\n",
      "Shape of weights w3: (64, 10)\n",
      "Shape of biases b1: (128,)\n",
      "Shape of biases b2: (64,)\n",
      "Shape of biases b3: (10,)\n"
     ]
    }
   ],
   "source": [
    "# Initialize all the parameters in neural network uniformly\n",
    "\n",
    "np.random.seed(695)  # Set the seed 695 as mentioned in question\n",
    "\n",
    "# Initialize weights uniformly with small values\n",
    "limit_w1 = np.sqrt(6 / (784 + 128))\n",
    "limit_w2 = np.sqrt(6 / (128 + 64))\n",
    "limit_w3 = np.sqrt(6 / (64 + 10))\n",
    "\n",
    "weights = {\n",
    "    'w1': np.random.uniform(-limit_w1, limit_w1, (784, 128)),\n",
    "    'w2': np.random.uniform(-limit_w2, limit_w2, (128, 64)),\n",
    "    'w3': np.random.uniform(-limit_w3, limit_w3, (64, 10))\n",
    "}\n",
    "\n",
    "# Initialize biases with zeros\n",
    "biases = {\n",
    "    'b1': np.zeros(128),\n",
    "    'b2': np.zeros(64),\n",
    "    'b3': np.zeros(10)\n",
    "}\n",
    "\n",
    "# Print out shapes to confirm initialization\n",
    "for layer, w in weights.items():\n",
    "    print(f\"Shape of weights {layer}: {w.shape}\")\n",
    "for layer, b in biases.items():\n",
    "    print(f\"Shape of biases {layer}: {b.shape}\")"
   ]
  },
  {
   "cell_type": "markdown",
   "metadata": {},
   "source": [
    "Step 4 Feed Forward (10 pts): In this step, you need to:\n",
    "\n",
    "(a) define a function named feed_forward. Given an input x, it should output the sigmoid of wx+b where w and b indicates the weights and bias defined in step 2. (5 pts)"
   ]
  },
  {
   "cell_type": "code",
   "execution_count": 8,
   "metadata": {},
   "outputs": [],
   "source": [
    "# Define the Feed Forward Propagation\n",
    "\n",
    "def feed_forward(x, weights, biases):\n",
    "    \n",
    "    # Flatten the image from 28x28 to 784\n",
    "    x_flat = x.reshape(-1, 784)\n",
    "    \n",
    "    # Input layer to first hidden layer\n",
    "    z1 = np.dot(x_flat, weights['w1']) + biases['b1']\n",
    "    a1 = sigmoid(z1)\n",
    "\n",
    "    # First hidden layer to second hidden layer\n",
    "    z2 = np.dot(a1, weights['w2']) + biases['b2']\n",
    "    a2 = sigmoid(z2)\n",
    "\n",
    "    # Second hidden layer to output layer\n",
    "    z3 = np.dot(a2, weights['w3']) + biases['b3']\n",
    "    a3 = softmax(z3)\n",
    "\n",
    "    # Storing the activations in a dictionary to use during backpropagation\n",
    "    activations = {\n",
    "        'a1': a1,\n",
    "        'a2': a2,\n",
    "        'a3': a3\n",
    "    }\n",
    "    \n",
    "    return activations\n"
   ]
  },
  {
   "cell_type": "markdown",
   "metadata": {},
   "source": [
    "Step 5 Back Propagation (15 pts): In this step, you need to implement the back propagation:\n",
    "\n",
    "(a) You need to compute the loss for the output layer first. Here, we use categorical cross entropy loss function given below for multi-class classification problem. (5 pts) Note, to achieve this, you need to first encode the categorical labels as numerical values using one-hot encoding finished in step 2. (5 pts)"
   ]
  },
  {
   "cell_type": "code",
   "execution_count": 9,
   "metadata": {},
   "outputs": [],
   "source": [
    "# Implement back propagation, including the calculation of the loss and gradients\n",
    "\n",
    "def back_propagation(x, y, weights, biases, activations):\n",
    "   \n",
    "    # Calculate the number of examples\n",
    "    m = x.shape[0]\n",
    "    \n",
    "    # Derivative of the loss w.r.t the last layer activation (softmax)\n",
    "    dA3 = activations['a3'] - y\n",
    "    \n",
    "    # Gradients for the weights and biases of the third layer\n",
    "    dW3 = np.dot(activations['a2'].T, dA3) / m\n",
    "    db3 = np.sum(dA3, axis=0, keepdims=True) / m\n",
    "    \n",
    "    # Backprop into second layer\n",
    "    dA2 = np.dot(dA3, weights['w3'].T) * sigmoid_derivative(activations['a2'])\n",
    "    dW2 = np.dot(activations['a1'].T, dA2) / m\n",
    "    db2 = np.sum(dA2, axis=0, keepdims=True) / m\n",
    "    \n",
    "    # Backprop into first layer\n",
    "    dA1 = np.dot(dA2, weights['w2'].T) * sigmoid_derivative(activations['a1'])\n",
    "    dW1 = np.dot(x.T, dA1) / m\n",
    "    db1 = np.sum(dA1, axis=0, keepdims=True) / m\n",
    "    \n",
    "\n",
    "    # The gradients for each layer\n",
    "    gradients = {\n",
    "        'dW3': dW3,\n",
    "        'db3': db3,\n",
    "        'dW2': dW2,\n",
    "        'db2': db2,\n",
    "        'dW1': dW1,\n",
    "        'db1': db1\n",
    "    }\n",
    "    \n",
    "    # Calculate the categorical cross-entropy loss\n",
    "    loss = -np.mean(np.sum(y * np.log(activations['a3'] + 1e-8), axis=1))\n",
    "    \n",
    "    return gradients, loss\n"
   ]
  },
  {
   "cell_type": "markdown",
   "metadata": {},
   "source": [
    "Step 6 Model Training (15 pts): In this step, you need to:\n",
    "\n",
    "(a) Use mini-batch gradient descent to update the parameters including weights and bias. Notice that a complete training round consists of a feed forward process, back propagation and parameter update.  Define the batch size = 128 and epoch = 100."
   ]
  },
  {
   "cell_type": "code",
   "execution_count": 10,
   "metadata": {},
   "outputs": [],
   "source": [
    "\n",
    "def update_parameters(weights, biases, gradients, learning_rate):\n",
    "\n",
    "    for key in weights.keys():\n",
    "        weights[key] = weights[key] - learning_rate * gradients['dW' + key[1:]]\n",
    "    for key in biases.keys():\n",
    "        biases[key] = biases[key] - learning_rate * gradients['db' + key[1:]]\n",
    "\n",
    "\n",
    "\n",
    "def train_model(X_train, Y_train, weights, biases, batch_size, epochs, learning_rate):\n",
    "    history = {'loss': []}  # To store the loss at each epoch\n",
    "\n",
    "    for epoch in range(epochs):\n",
    "        # Shuffle the training data (good practice for mini-batch gradient descent)\n",
    "        permutation = np.random.permutation(12800)\n",
    "        X_train_shuffled = X_train[permutation]\n",
    "        Y_train_shuffled = Y_train[permutation]\n",
    "\n",
    "        epoch_loss = 0\n",
    "\n",
    "        # Mini-batch gradient descent\n",
    "        for i in range(0, 12800, batch_size):\n",
    "            # Creating mini-batch\n",
    "            X_batch = X_train_shuffled[i:i + batch_size]\n",
    "            Y_batch = Y_train_shuffled[i:i + batch_size]\n",
    "            \n",
    "            XY = 0\n",
    "           \n",
    "            # Perform a feedforward pass\n",
    "            activations = feed_forward(X_batch, weights, biases)\n",
    "\n",
    "            # Perform backpropagation to get the gradients\n",
    "            gradients, loss = back_propagation(X_batch, Y_batch, weights, biases, activations)\n",
    "         \n",
    "            # Update parameters\n",
    "            update_parameters(weights, biases, gradients, learning_rate)\n",
    "            \n",
    "            epoch_loss += loss\n",
    "\n",
    "        # Calculate the loss for this epoch and store it\n",
    "        \n",
    "        epoch_loss /= (12800 / batch_size)\n",
    "        history['loss'].append(epoch_loss)\n",
    "\n",
    "    return weights, biases, history\n",
    "\n",
    "batch_size = 128\n",
    "epochs = 100\n",
    "learning_rate = 0.5\n",
    "\n",
    "trainImg = trainImg.reshape(60000,784)\n",
    "train_weights, train_biases, train_history = train_model(trainImg, cat_encode, weights, biases, batch_size, epochs, learning_rate)"
   ]
  },
  {
   "cell_type": "markdown",
   "metadata": {},
   "source": [
    "Step 7 Model Evaluation (10 pts): In this step, you need to:\n",
    "\n",
    "(a) Use your trained neural network to predict the labels of the test dataset and compute the accuracy on the test dataset. (5 pts)\n",
    "Remark: if you correctly execute every step above, you will probably get a result around 90%.\n",
    "\n",
    "(b) Plot some of the misclassified images with their predicted and true labels. (5 pts) This probably can give you some insights into why these images are misclassified."
   ]
  },
  {
   "cell_type": "code",
   "execution_count": 11,
   "metadata": {},
   "outputs": [
    {
     "name": "stdout",
     "output_type": "stream",
     "text": [
      "Accuracy on the test dataset: 91.57%\n"
     ]
    },
    {
     "data": {
      "image/png": "[encoded data removed]",
      "text/plain": [
       "<Figure size 1500x400 with 10 Axes>"
      ]
     },
     "metadata": {},
     "output_type": "display_data"
    }
   ],
   "source": [
    "def predict(X, weights, biases):\n",
    "    activations = feed_forward(X, weights, biases)\n",
    "    predictions = np.argmax(activations['a3'], axis=1)\n",
    "    return predictions\n",
    "\n",
    "def compute_accuracy(predictions, labels):\n",
    "    accuracy = np.mean(predictions == labels) * 100\n",
    "    return accuracy\n",
    "\n",
    "# Flatten the test images and get the true labels\n",
    "X_test_flattened = t10k_Img.reshape(t10k_Img.shape[0], -1)\n",
    "predictions = predict(X_test_flattened, train_weights, train_biases)\n",
    "true_labels = t10k_Lb  # Convert one-hot encoded labels back to normal labels\n",
    "\n",
    "# Compute the accuracy\n",
    "test_accuracy = compute_accuracy(predictions, true_labels)\n",
    "print(f\"Accuracy on the test dataset: {test_accuracy:.2f}%\")\n",
    "\n",
    "# Identify misclassified images\n",
    "misclassified_indices = np.where(predictions != true_labels)[0]\n",
    "misclassified_images = t10k_Img[misclassified_indices]\n",
    "misclassified_predictions = predictions[misclassified_indices]\n",
    "true_misclassified_labels = true_labels[misclassified_indices]\n",
    "\n",
    "# Plot some of the misclassified images\n",
    "plt.figure(figsize=(15, 4))\n",
    "for i, (image, pred, true) in enumerate(zip(misclassified_images[:10], misclassified_predictions[:10], true_misclassified_labels[:10])):\n",
    "    plt.subplot(2, 5, i+1)\n",
    "    plt.imshow(image, cmap='gray')\n",
    "    plt.title(f\"Predicted: {pred}, True: {true}\")\n",
    "    plt.axis('off')\n",
    "plt.tight_layout()\n",
    "plt.show()\n"
   ]
  },
  {
   "cell_type": "markdown",
   "metadata": {},
   "source": [
    "Here, we can see the accuracy is 91.57% and sample set of mis-classified images we can see in above output."
   ]
  },
  {
   "cell_type": "code",
   "execution_count": null,
   "metadata": {},
   "outputs": [],
   "source": []
  }
 ],
 "metadata": {
  "kernelspec": {
   "display_name": "Python 3 (ipykernel)",
   "language": "python",
   "name": "python3"
  },
  "language_info": {
   "codemirror_mode": {
    "name": "ipython",
    "version": 3
   },
   "file_extension": ".py",
   "mimetype": "text/x-python",
   "name": "python",
   "nbconvert_exporter": "python",
   "pygments_lexer": "ipython3",
   "version": "3.11.4"
  }
 },
 "nbformat": 4,
 "nbformat_minor": 2
}
